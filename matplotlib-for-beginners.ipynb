{
 "cells": [
  {
   "cell_type": "markdown",
   "id": "09e09a9d",
   "metadata": {
    "papermill": {
     "duration": 0.013016,
     "end_time": "2022-11-08T10:09:45.657489",
     "exception": false,
     "start_time": "2022-11-08T10:09:45.644473",
     "status": "completed"
    },
    "tags": []
   },
   "source": [
    "### Matplotlib\n",
    "- low level graph plotting library in python that serves as a visualization utility\n",
    "- was created by John D. Hunter.\n",
    "- mostly written in python, a few segments are written in C, Objective-C and Javascript for Platform compatibility.\n",
    "- It can export visualizations to all of the common formats like PDF, SVG, JPG, PNG, BMP and GIF\n",
    "- It can create popular visualization types – line plot, scatter plot, histogram, bar chart, error charts, pie chart, box plot, and many more types of plot\n",
    "- Matplotlib also supports 3D plotting.\n",
    "- Many Python libraries are built on top of Matplotlib. For example, pandas and Seaborn are built on Matplotlib. They allow to access - Matplotlib’s methods with less code.\n",
    "---------"
   ]
  },
  {
   "cell_type": "markdown",
   "id": "e210623f",
   "metadata": {
    "papermill": {
     "duration": 0.012888,
     "end_time": "2022-11-08T10:09:45.682079",
     "exception": false,
     "start_time": "2022-11-08T10:09:45.669191",
     "status": "completed"
    },
    "tags": []
   },
   "source": [
    "#### Check Version"
   ]
  },
  {
   "cell_type": "code",
   "execution_count": 1,
   "id": "413cdae7",
   "metadata": {
    "execution": {
     "iopub.execute_input": "2022-11-08T10:09:45.707845Z",
     "iopub.status.busy": "2022-11-08T10:09:45.706876Z",
     "iopub.status.idle": "2022-11-08T10:09:45.720762Z",
     "shell.execute_reply": "2022-11-08T10:09:45.719569Z"
    },
    "papermill": {
     "duration": 0.030061,
     "end_time": "2022-11-08T10:09:45.723498",
     "exception": false,
     "start_time": "2022-11-08T10:09:45.693437",
     "status": "completed"
    },
    "tags": []
   },
   "outputs": [
    {
     "name": "stdout",
     "output_type": "stream",
     "text": [
      "3.5.3\n"
     ]
    }
   ],
   "source": [
    "import matplotlib\n",
    "print(matplotlib.__version__)"
   ]
  },
  {
   "cell_type": "code",
   "execution_count": 2,
   "id": "f002c241",
   "metadata": {
    "execution": {
     "iopub.execute_input": "2022-11-08T10:09:45.748875Z",
     "iopub.status.busy": "2022-11-08T10:09:45.747945Z",
     "iopub.status.idle": "2022-11-08T10:09:45.752466Z",
     "shell.execute_reply": "2022-11-08T10:09:45.751666Z"
    },
    "papermill": {
     "duration": 0.019608,
     "end_time": "2022-11-08T10:09:45.754847",
     "exception": false,
     "start_time": "2022-11-08T10:09:45.735239",
     "status": "completed"
    },
    "tags": []
   },
   "outputs": [],
   "source": [
    "# import pyplot \n",
    "import matplotlib.pyplot as plt\n",
    "import numpy as np "
   ]
  },
  {
   "cell_type": "markdown",
   "id": "6031b589",
   "metadata": {
    "papermill": {
     "duration": 0.011065,
     "end_time": "2022-11-08T10:09:45.777416",
     "exception": false,
     "start_time": "2022-11-08T10:09:45.766351",
     "status": "completed"
    },
    "tags": []
   },
   "source": [
    "#### Styles with Matplotlib Plots\n",
    "- matplotlib has a style module , It includes a number of new default stylesheets, as well as the ability to create and package own styles."
   ]
  },
  {
   "cell_type": "code",
   "execution_count": 3,
   "id": "8242806c",
   "metadata": {
    "execution": {
     "iopub.execute_input": "2022-11-08T10:09:45.802032Z",
     "iopub.status.busy": "2022-11-08T10:09:45.801365Z",
     "iopub.status.idle": "2022-11-08T10:09:45.806218Z",
     "shell.execute_reply": "2022-11-08T10:09:45.805219Z"
    },
    "papermill": {
     "duration": 0.020371,
     "end_time": "2022-11-08T10:09:45.809051",
     "exception": false,
     "start_time": "2022-11-08T10:09:45.788680",
     "status": "completed"
    },
    "tags": []
   },
   "outputs": [
    {
     "name": "stdout",
     "output_type": "stream",
     "text": [
      "['Solarize_Light2', '_classic_test_patch', '_mpl-gallery', '_mpl-gallery-nogrid', 'bmh', 'classic', 'dark_background', 'fast', 'fivethirtyeight', 'ggplot', 'grayscale', 'seaborn', 'seaborn-bright', 'seaborn-colorblind', 'seaborn-dark', 'seaborn-dark-palette', 'seaborn-darkgrid', 'seaborn-deep', 'seaborn-muted', 'seaborn-notebook', 'seaborn-paper', 'seaborn-pastel', 'seaborn-poster', 'seaborn-talk', 'seaborn-ticks', 'seaborn-white', 'seaborn-whitegrid', 'tableau-colorblind10']\n"
     ]
    }
   ],
   "source": [
    "# View list of all available styles\n",
    "print(plt.style.available)"
   ]
  },
  {
   "cell_type": "code",
   "execution_count": 4,
   "id": "a9e9ee11",
   "metadata": {
    "execution": {
     "iopub.execute_input": "2022-11-08T10:09:45.835572Z",
     "iopub.status.busy": "2022-11-08T10:09:45.834984Z",
     "iopub.status.idle": "2022-11-08T10:09:45.838969Z",
     "shell.execute_reply": "2022-11-08T10:09:45.838233Z"
    },
    "papermill": {
     "duration": 0.01983,
     "end_time": "2022-11-08T10:09:45.841287",
     "exception": false,
     "start_time": "2022-11-08T10:09:45.821457",
     "status": "completed"
    },
    "tags": []
   },
   "outputs": [],
   "source": [
    "# Set styles for plots\n",
    "plt.style.use('seaborn-bright')"
   ]
  },
  {
   "cell_type": "markdown",
   "id": "9a5a8800",
   "metadata": {
    "papermill": {
     "duration": 0.01137,
     "end_time": "2022-11-08T10:09:45.864516",
     "exception": false,
     "start_time": "2022-11-08T10:09:45.853146",
     "status": "completed"
    },
    "tags": []
   },
   "source": [
    "-----\n",
    "#### Matplotlib API Overview\n",
    "- Matplotlib has two APIs to work with :\n",
    "    - pyplot interface : A MATLAB-style state-based interface\n",
    "    - Object-Oriented interface : more powerful object-oriented (OO) interface"
   ]
  },
  {
   "cell_type": "markdown",
   "id": "89a3c8a6",
   "metadata": {
    "papermill": {
     "duration": 0.011697,
     "end_time": "2022-11-08T10:09:45.887895",
     "exception": false,
     "start_time": "2022-11-08T10:09:45.876198",
     "status": "completed"
    },
    "tags": []
   },
   "source": [
    "#### Pyplot\n",
    "- Pyplot is a collection of command style functions that make Matplotlib work like MATLAB.\n",
    "- each pyplot function makes some change to a figure\n",
    "- Most of the Matplotlib utilities lies under the pyplot submodule, and are usually imported under the plt alias\n",
    "- Matplotlib.pyplot is stateful because the underlying engine keeps track of the current figure and plotting area information and plotting functions change that information.\n",
    "- is not suitable for more complicated cases. For these cases, we have another interface called Object-Oriented interface"
   ]
  },
  {
   "cell_type": "markdown",
   "id": "49a74050",
   "metadata": {
    "papermill": {
     "duration": 0.011488,
     "end_time": "2022-11-08T10:09:45.911008",
     "exception": false,
     "start_time": "2022-11-08T10:09:45.899520",
     "status": "completed"
    },
    "tags": []
   },
   "source": [
    "### Plot function\n",
    "- plot() function is used to draw points (markers) in a diagram\n",
    "- by default, the plot() function draws a line from point to point.\n",
    "- The function takes parameters for specifying points in the diagram (x axis , y axis)\n",
    "- axis :\n",
    "    - The x-axis is the horizontal axis.\n",
    "    - The y-axis is the vertical axis."
   ]
  },
  {
   "cell_type": "code",
   "execution_count": 5,
   "id": "5217a37d",
   "metadata": {
    "execution": {
     "iopub.execute_input": "2022-11-08T10:09:45.936613Z",
     "iopub.status.busy": "2022-11-08T10:09:45.935987Z",
     "iopub.status.idle": "2022-11-08T10:09:46.166674Z",
     "shell.execute_reply": "2022-11-08T10:09:46.165610Z"
    },
    "papermill": {
     "duration": 0.2466,
     "end_time": "2022-11-08T10:09:46.169282",
     "exception": false,
     "start_time": "2022-11-08T10:09:45.922682",
     "status": "completed"
    },
    "tags": []
   },
   "outputs": [
    {
     "data": {
      "image/png": "[encoded data removed]",
      "text/plain": [
       "<Figure size 432x288 with 1 Axes>"
      ]
     },
     "metadata": {
      "needs_background": "light"
     },
     "output_type": "display_data"
    }
   ],
   "source": [
    "# draw simple line\n",
    "x = np.array([0, 6])\n",
    "y = np.array([0, 250])\n",
    "\n",
    "plt.plot(x, y)\n",
    "plt.show()"
   ]
  },
  {
   "cell_type": "markdown",
   "id": "85614d0c",
   "metadata": {
    "papermill": {
     "duration": 0.011503,
     "end_time": "2022-11-08T10:09:46.192784",
     "exception": false,
     "start_time": "2022-11-08T10:09:46.181281",
     "status": "completed"
    },
    "tags": []
   },
   "source": [
    "----"
   ]
  },
  {
   "cell_type": "markdown",
   "id": "fa31141c",
   "metadata": {
    "papermill": {
     "duration": 0.011851,
     "end_time": "2022-11-08T10:09:46.216508",
     "exception": false,
     "start_time": "2022-11-08T10:09:46.204657",
     "status": "completed"
    },
    "tags": []
   },
   "source": [
    "### Plotting Without Line\n",
    "- To plot only the markers, you can use shortcut string notation parameter 'o', which means 'rings'"
   ]
  },
  {
   "cell_type": "code",
   "execution_count": 6,
   "id": "2797e9b9",
   "metadata": {
    "execution": {
     "iopub.execute_input": "2022-11-08T10:09:46.242682Z",
     "iopub.status.busy": "2022-11-08T10:09:46.241568Z",
     "iopub.status.idle": "2022-11-08T10:09:46.442197Z",
     "shell.execute_reply": "2022-11-08T10:09:46.441430Z"
    },
    "papermill": {
     "duration": 0.215807,
     "end_time": "2022-11-08T10:09:46.444177",
     "exception": false,
     "start_time": "2022-11-08T10:09:46.228370",
     "status": "completed"
    },
    "tags": []
   },
   "outputs": [
    {
     "data": {
      "image/png": "[encoded data removed]",
      "text/plain": [
       "<Figure size 432x288 with 1 Axes>"
      ]
     },
     "metadata": {
      "needs_background": "light"
     },
     "output_type": "display_data"
    }
   ],
   "source": [
    "x = np.array([1, 8])\n",
    "y = np.array([3, 10])\n",
    "\n",
    "plt.plot(x, y, 'o')\n",
    "plt.show()"
   ]
  },
  {
   "cell_type": "markdown",
   "id": "3fa1600a",
   "metadata": {
    "papermill": {
     "duration": 0.011628,
     "end_time": "2022-11-08T10:09:46.467904",
     "exception": false,
     "start_time": "2022-11-08T10:09:46.456276",
     "status": "completed"
    },
    "tags": []
   },
   "source": [
    "--------\n",
    "#### Multiple Points\n",
    "- You can plot as many points as you like, just make sure you have the same number of points in both axis."
   ]
  },
  {
   "cell_type": "code",
   "execution_count": 7,
   "id": "ec7724c3",
   "metadata": {
    "execution": {
     "iopub.execute_input": "2022-11-08T10:09:46.493724Z",
     "iopub.status.busy": "2022-11-08T10:09:46.493027Z",
     "iopub.status.idle": "2022-11-08T10:09:46.678664Z",
     "shell.execute_reply": "2022-11-08T10:09:46.677453Z"
    },
    "papermill": {
     "duration": 0.201466,
     "end_time": "2022-11-08T10:09:46.681264",
     "exception": false,
     "start_time": "2022-11-08T10:09:46.479798",
     "status": "completed"
    },
    "tags": []
   },
   "outputs": [
    {
     "data": {
      "image/png": "[encoded data removed]",
      "text/plain": [
       "<Figure size 432x288 with 1 Axes>"
      ]
     },
     "metadata": {
      "needs_background": "light"
     },
     "output_type": "display_data"
    }
   ],
   "source": [
    "x = np.array([1, 2, 6, 8])\n",
    "y = np.array([3, 8, 1, 10])\n",
    "\n",
    "plt.plot(x, y)\n",
    "plt.show()"
   ]
  },
  {
   "cell_type": "markdown",
   "id": "6510c1f0",
   "metadata": {
    "papermill": {
     "duration": 0.012163,
     "end_time": "2022-11-08T10:09:46.705881",
     "exception": false,
     "start_time": "2022-11-08T10:09:46.693718",
     "status": "completed"
    },
    "tags": []
   },
   "source": [
    "-----\n",
    "#### Default X-Points\n",
    "- If we do not specify the points in the x-axis, they will get the default values 0, 1, 2, 3, depending on the length of the y-points."
   ]
  },
  {
   "cell_type": "code",
   "execution_count": 8,
   "id": "947e7cf5",
   "metadata": {
    "execution": {
     "iopub.execute_input": "2022-11-08T10:09:46.732037Z",
     "iopub.status.busy": "2022-11-08T10:09:46.731654Z",
     "iopub.status.idle": "2022-11-08T10:09:46.918487Z",
     "shell.execute_reply": "2022-11-08T10:09:46.917623Z"
    },
    "papermill": {
     "duration": 0.202521,
     "end_time": "2022-11-08T10:09:46.920774",
     "exception": false,
     "start_time": "2022-11-08T10:09:46.718253",
     "status": "completed"
    },
    "tags": []
   },
   "outputs": [
    {
     "data": {
      "image/png": "[encoded data removed]",
      "text/plain": [
       "<Figure size 432x288 with 1 Axes>"
      ]
     },
     "metadata": {
      "needs_background": "light"
     },
     "output_type": "display_data"
    }
   ],
   "source": [
    "x = np.array([3, 8, 1, 10, 5, 7])\n",
    "\n",
    "plt.plot(x)\n",
    "plt.show()"
   ]
  },
  {
   "cell_type": "markdown",
   "id": "28dca8e9",
   "metadata": {
    "papermill": {
     "duration": 0.012662,
     "end_time": "2022-11-08T10:09:46.946396",
     "exception": false,
     "start_time": "2022-11-08T10:09:46.933734",
     "status": "completed"
    },
    "tags": []
   },
   "source": [
    "------\n",
    "#### Markers\n",
    "- You can use the keyword argument marker to emphasize each point with a specified marker"
   ]
  },
  {
   "cell_type": "code",
   "execution_count": 9,
   "id": "84819882",
   "metadata": {
    "execution": {
     "iopub.execute_input": "2022-11-08T10:09:46.984468Z",
     "iopub.status.busy": "2022-11-08T10:09:46.983065Z",
     "iopub.status.idle": "2022-11-08T10:09:47.177488Z",
     "shell.execute_reply": "2022-11-08T10:09:47.176309Z"
    },
    "papermill": {
     "duration": 0.218613,
     "end_time": "2022-11-08T10:09:47.179905",
     "exception": false,
     "start_time": "2022-11-08T10:09:46.961292",
     "status": "completed"
    },
    "tags": []
   },
   "outputs": [
    {
     "data": {
      "image/png": "[encoded data removed]",
      "text/plain": [
       "<Figure size 432x288 with 1 Axes>"
      ]
     },
     "metadata": {
      "needs_background": "light"
     },
     "output_type": "display_data"
    }
   ],
   "source": [
    "x = np.array([3, 8, 1, 10])\n",
    "\n",
    "plt.plot(x, marker = 'o') \n",
    "plt.show()"
   ]
  },
  {
   "cell_type": "markdown",
   "id": "61cec213",
   "metadata": {
    "papermill": {
     "duration": 0.012616,
     "end_time": "2022-11-08T10:09:47.205601",
     "exception": false,
     "start_time": "2022-11-08T10:09:47.192985",
     "status": "completed"
    },
    "tags": []
   },
   "source": [
    "- for more markers options check the matplotlib docs: https://matplotlib.org/stable/api/markers_api.html"
   ]
  },
  {
   "cell_type": "markdown",
   "id": "17093b13",
   "metadata": {
    "papermill": {
     "duration": 0.012769,
     "end_time": "2022-11-08T10:09:47.231798",
     "exception": false,
     "start_time": "2022-11-08T10:09:47.219029",
     "status": "completed"
    },
    "tags": []
   },
   "source": [
    "-----\n",
    "#### Format Strings fmt\n",
    "- You can use also use the shortcut string notation parameter to specify the marker\n",
    "- This parameter is also called fmt, and is written with this syntax:\n",
    "- *marker*|*line*|*color*"
   ]
  },
  {
   "cell_type": "code",
   "execution_count": 10,
   "id": "09b6263b",
   "metadata": {
    "execution": {
     "iopub.execute_input": "2022-11-08T10:09:47.265746Z",
     "iopub.status.busy": "2022-11-08T10:09:47.264787Z",
     "iopub.status.idle": "2022-11-08T10:09:47.454664Z",
     "shell.execute_reply": "2022-11-08T10:09:47.453591Z"
    },
    "papermill": {
     "duration": 0.212107,
     "end_time": "2022-11-08T10:09:47.457010",
     "exception": false,
     "start_time": "2022-11-08T10:09:47.244903",
     "status": "completed"
    },
    "tags": []
   },
   "outputs": [
    {
     "data": {
      "image/png": "[encoded data removed]",
      "text/plain": [
       "<Figure size 432x288 with 1 Axes>"
      ]
     },
     "metadata": {
      "needs_background": "light"
     },
     "output_type": "display_data"
    }
   ],
   "source": [
    "x = np.array([3, 8, 1, 10])\n",
    "\n",
    "plt.plot(x, 'o:r')\n",
    "plt.show()"
   ]
  },
  {
   "cell_type": "markdown",
   "id": "5cdd0f77",
   "metadata": {
    "papermill": {
     "duration": 0.01305,
     "end_time": "2022-11-08T10:09:47.483387",
     "exception": false,
     "start_time": "2022-11-08T10:09:47.470337",
     "status": "completed"
    },
    "tags": []
   },
   "source": [
    "#### line \n",
    "- If you leave out the line value in the fmt parameter, no line will be plotted.\n",
    "- '-'  : Solid line\n",
    "- ':'  : Dotted line\n",
    "- '--' : Dashed line\n",
    "- '-.' : Dashed/dotted line\n",
    "\n",
    "\n",
    "#### Colors :\n",
    "- for more colors check the matplotlib docs : https://matplotlib.org/stable/gallery/color/named_colors.html"
   ]
  },
  {
   "cell_type": "markdown",
   "id": "4e2adc0d",
   "metadata": {
    "papermill": {
     "duration": 0.012851,
     "end_time": "2022-11-08T10:09:47.509701",
     "exception": false,
     "start_time": "2022-11-08T10:09:47.496850",
     "status": "completed"
    },
    "tags": []
   },
   "source": [
    "------\n",
    "#### Mark Size\n",
    "- You can use the keyword argument markersize or the shorter version, ms to set the size of the markers"
   ]
  },
  {
   "cell_type": "code",
   "execution_count": 11,
   "id": "dcca5429",
   "metadata": {
    "execution": {
     "iopub.execute_input": "2022-11-08T10:09:47.538453Z",
     "iopub.status.busy": "2022-11-08T10:09:47.537246Z",
     "iopub.status.idle": "2022-11-08T10:09:47.795957Z",
     "shell.execute_reply": "2022-11-08T10:09:47.794502Z"
    },
    "papermill": {
     "duration": 0.275614,
     "end_time": "2022-11-08T10:09:47.798454",
     "exception": false,
     "start_time": "2022-11-08T10:09:47.522840",
     "status": "completed"
    },
    "tags": []
   },
   "outputs": [
    {
     "data": {
      "image/png": "[encoded data removed]",
      "text/plain": [
       "<Figure size 432x288 with 1 Axes>"
      ]
     },
     "metadata": {
      "needs_background": "light"
     },
     "output_type": "display_data"
    }
   ],
   "source": [
    "x = np.array([3, 8, 1, 10])\n",
    "plt.plot(x, marker = 'o', ms = 20)\n",
    "plt.show()"
   ]
  },
  {
   "cell_type": "markdown",
   "id": "1d3840cc",
   "metadata": {
    "papermill": {
     "duration": 0.01306,
     "end_time": "2022-11-08T10:09:47.825743",
     "exception": false,
     "start_time": "2022-11-08T10:09:47.812683",
     "status": "completed"
    },
    "tags": []
   },
   "source": [
    "#### Marker Color\n",
    "- You can use the keyword argument markeredgecolor or the shorter mec to set the color of the edge of the markers"
   ]
  },
  {
   "cell_type": "code",
   "execution_count": 12,
   "id": "197122f6",
   "metadata": {
    "execution": {
     "iopub.execute_input": "2022-11-08T10:09:47.853971Z",
     "iopub.status.busy": "2022-11-08T10:09:47.853596Z",
     "iopub.status.idle": "2022-11-08T10:09:48.048331Z",
     "shell.execute_reply": "2022-11-08T10:09:48.047429Z"
    },
    "papermill": {
     "duration": 0.211767,
     "end_time": "2022-11-08T10:09:48.050802",
     "exception": false,
     "start_time": "2022-11-08T10:09:47.839035",
     "status": "completed"
    },
    "tags": []
   },
   "outputs": [
    {
     "data": {
      "image/png": "[encoded data removed]",
      "text/plain": [
       "<Figure size 432x288 with 1 Axes>"
      ]
     },
     "metadata": {
      "needs_background": "light"
     },
     "output_type": "display_data"
    }
   ],
   "source": [
    "x = np.array([3, 8, 1, 10])\n",
    "plt.plot(x, marker = 'o', ms = 20, mec = 'r')\n",
    "plt.show()"
   ]
  },
  {
   "cell_type": "markdown",
   "id": "ff6c9f7f",
   "metadata": {
    "papermill": {
     "duration": 0.013561,
     "end_time": "2022-11-08T10:09:48.078358",
     "exception": false,
     "start_time": "2022-11-08T10:09:48.064797",
     "status": "completed"
    },
    "tags": []
   },
   "source": [
    "### You can use the keyword argument markerfacecolor or the shorter mfc to set the color inside the edge of the markers"
   ]
  },
  {
   "cell_type": "code",
   "execution_count": 13,
   "id": "7afc4b30",
   "metadata": {
    "execution": {
     "iopub.execute_input": "2022-11-08T10:09:48.108824Z",
     "iopub.status.busy": "2022-11-08T10:09:48.107645Z",
     "iopub.status.idle": "2022-11-08T10:09:48.299299Z",
     "shell.execute_reply": "2022-11-08T10:09:48.298034Z"
    },
    "papermill": {
     "duration": 0.209394,
     "end_time": "2022-11-08T10:09:48.301756",
     "exception": false,
     "start_time": "2022-11-08T10:09:48.092362",
     "status": "completed"
    },
    "tags": []
   },
   "outputs": [
    {
     "data": {
      "image/png": "[encoded data removed]",
      "text/plain": [
       "<Figure size 432x288 with 1 Axes>"
      ]
     },
     "metadata": {
      "needs_background": "light"
     },
     "output_type": "display_data"
    }
   ],
   "source": [
    "x = np.array([3, 8, 1, 10])\n",
    "plt.plot(x, marker = 'o', ms = 20, mfc = 'r')\n",
    "plt.show()"
   ]
  },
  {
   "cell_type": "markdown",
   "id": "23dd952a",
   "metadata": {
    "papermill": {
     "duration": 0.013884,
     "end_time": "2022-11-08T10:09:48.329969",
     "exception": false,
     "start_time": "2022-11-08T10:09:48.316085",
     "status": "completed"
    },
    "tags": []
   },
   "source": [
    "#### Use both the mec and mfc arguments to color of the entire marker"
   ]
  },
  {
   "cell_type": "code",
   "execution_count": 14,
   "id": "4a743cae",
   "metadata": {
    "execution": {
     "iopub.execute_input": "2022-11-08T10:09:48.360853Z",
     "iopub.status.busy": "2022-11-08T10:09:48.360172Z",
     "iopub.status.idle": "2022-11-08T10:09:48.550357Z",
     "shell.execute_reply": "2022-11-08T10:09:48.549165Z"
    },
    "papermill": {
     "duration": 0.208574,
     "end_time": "2022-11-08T10:09:48.552863",
     "exception": false,
     "start_time": "2022-11-08T10:09:48.344289",
     "status": "completed"
    },
    "tags": []
   },
   "outputs": [
    {
     "data": {
      "image/png": "[encoded data removed]",
      "text/plain": [
       "<Figure size 432x288 with 1 Axes>"
      ]
     },
     "metadata": {
      "needs_background": "light"
     },
     "output_type": "display_data"
    }
   ],
   "source": [
    "x = np.array([3, 8, 1, 10])\n",
    "plt.plot(x, marker = 'o', ms = 20, mec = 'r', mfc = 'r')\n",
    "plt.show()"
   ]
  },
  {
   "cell_type": "markdown",
   "id": "9593f5a4",
   "metadata": {
    "papermill": {
     "duration": 0.014497,
     "end_time": "2022-11-08T10:09:48.581989",
     "exception": false,
     "start_time": "2022-11-08T10:09:48.567492",
     "status": "completed"
    },
    "tags": []
   },
   "source": [
    "#### You can also use Hexadecimal color values:"
   ]
  },
  {
   "cell_type": "code",
   "execution_count": 15,
   "id": "e6cd41d2",
   "metadata": {
    "execution": {
     "iopub.execute_input": "2022-11-08T10:09:48.613408Z",
     "iopub.status.busy": "2022-11-08T10:09:48.612955Z",
     "iopub.status.idle": "2022-11-08T10:09:48.818497Z",
     "shell.execute_reply": "2022-11-08T10:09:48.817312Z"
    },
    "papermill": {
     "duration": 0.224249,
     "end_time": "2022-11-08T10:09:48.820842",
     "exception": false,
     "start_time": "2022-11-08T10:09:48.596593",
     "status": "completed"
    },
    "tags": []
   },
   "outputs": [
    {
     "data": {
      "text/plain": [
       "[<matplotlib.lines.Line2D at 0x7f851ba8ad50>]"
      ]
     },
     "execution_count": 15,
     "metadata": {},
     "output_type": "execute_result"
    },
    {
     "data": {
      "image/png": "[encoded data removed]",
      "text/plain": [
       "<Figure size 432x288 with 1 Axes>"
      ]
     },
     "metadata": {
      "needs_background": "light"
     },
     "output_type": "display_data"
    }
   ],
   "source": [
    "plt.plot(x, marker = 'o', ms = 20, mec = '#4CAF50', mfc = '#4CAF50')"
   ]
  },
  {
   "cell_type": "markdown",
   "id": "9c0ca778",
   "metadata": {
    "papermill": {
     "duration": 0.014885,
     "end_time": "2022-11-08T10:09:48.850627",
     "exception": false,
     "start_time": "2022-11-08T10:09:48.835742",
     "status": "completed"
    },
    "tags": []
   },
   "source": [
    "#### Or any of the 140 supported color names. (https://www.w3schools.com/colors/colors_names.asp)"
   ]
  },
  {
   "cell_type": "code",
   "execution_count": 16,
   "id": "48b9852e",
   "metadata": {
    "execution": {
     "iopub.execute_input": "2022-11-08T10:09:48.882123Z",
     "iopub.status.busy": "2022-11-08T10:09:48.881486Z",
     "iopub.status.idle": "2022-11-08T10:09:49.101725Z",
     "shell.execute_reply": "2022-11-08T10:09:49.100499Z"
    },
    "papermill": {
     "duration": 0.238835,
     "end_time": "2022-11-08T10:09:49.104128",
     "exception": false,
     "start_time": "2022-11-08T10:09:48.865293",
     "status": "completed"
    },
    "tags": []
   },
   "outputs": [
    {
     "data": {
      "text/plain": [
       "[<matplotlib.lines.Line2D at 0x7f851bba0910>]"
      ]
     },
     "execution_count": 16,
     "metadata": {},
     "output_type": "execute_result"
    },
    {
     "data": {
      "image/png": "[encoded data removed]",
      "text/plain": [
       "<Figure size 432x288 with 1 Axes>"
      ]
     },
     "metadata": {
      "needs_background": "light"
     },
     "output_type": "display_data"
    }
   ],
   "source": [
    "plt.plot(y, marker = 'o', ms = 20, mec = 'hotpink', mfc = 'hotpink')"
   ]
  },
  {
   "cell_type": "markdown",
   "id": "b344b2e0",
   "metadata": {
    "papermill": {
     "duration": 0.014755,
     "end_time": "2022-11-08T10:09:49.135692",
     "exception": false,
     "start_time": "2022-11-08T10:09:49.120937",
     "status": "completed"
    },
    "tags": []
   },
   "source": [
    "----\n",
    "#### Linestyle\n",
    "- You can use the keyword argument linestyle, or shorter ls, to change the style of the plotted line"
   ]
  },
  {
   "cell_type": "code",
   "execution_count": 17,
   "id": "4bcc73db",
   "metadata": {
    "execution": {
     "iopub.execute_input": "2022-11-08T10:09:49.168351Z",
     "iopub.status.busy": "2022-11-08T10:09:49.167691Z",
     "iopub.status.idle": "2022-11-08T10:09:49.350506Z",
     "shell.execute_reply": "2022-11-08T10:09:49.349290Z"
    },
    "papermill": {
     "duration": 0.201895,
     "end_time": "2022-11-08T10:09:49.352850",
     "exception": false,
     "start_time": "2022-11-08T10:09:49.150955",
     "status": "completed"
    },
    "tags": []
   },
   "outputs": [
    {
     "data": {
      "image/png": "[encoded data removed]",
      "text/plain": [
       "<Figure size 432x288 with 1 Axes>"
      ]
     },
     "metadata": {
      "needs_background": "light"
     },
     "output_type": "display_data"
    }
   ],
   "source": [
    "x = np.array([3, 8, 1, 10])\n",
    "plt.plot(x, linestyle = 'dotted')\n",
    "plt.show()"
   ]
  },
  {
   "cell_type": "markdown",
   "id": "1ee07789",
   "metadata": {
    "papermill": {
     "duration": 0.015158,
     "end_time": "2022-11-08T10:09:49.383594",
     "exception": false,
     "start_time": "2022-11-08T10:09:49.368436",
     "status": "completed"
    },
    "tags": []
   },
   "source": [
    "- for more linestyles check the matplotlib docs. : https://matplotlib.org/stable/gallery/lines_bars_and_markers/linestyles.html"
   ]
  },
  {
   "cell_type": "markdown",
   "id": "1f508e41",
   "metadata": {
    "papermill": {
     "duration": 0.015232,
     "end_time": "2022-11-08T10:09:49.414296",
     "exception": false,
     "start_time": "2022-11-08T10:09:49.399064",
     "status": "completed"
    },
    "tags": []
   },
   "source": [
    "-----\n",
    "#### Line Color\n",
    "- You can use the keyword argument color or the shorter c to set the color of the lin"
   ]
  },
  {
   "cell_type": "code",
   "execution_count": 18,
   "id": "89f26d5b",
   "metadata": {
    "execution": {
     "iopub.execute_input": "2022-11-08T10:09:49.447332Z",
     "iopub.status.busy": "2022-11-08T10:09:49.446893Z",
     "iopub.status.idle": "2022-11-08T10:09:49.629733Z",
     "shell.execute_reply": "2022-11-08T10:09:49.628560Z"
    },
    "papermill": {
     "duration": 0.202264,
     "end_time": "2022-11-08T10:09:49.632090",
     "exception": false,
     "start_time": "2022-11-08T10:09:49.429826",
     "status": "completed"
    },
    "tags": []
   },
   "outputs": [
    {
     "data": {
      "image/png": "[encoded data removed]",
      "text/plain": [
       "<Figure size 432x288 with 1 Axes>"
      ]
     },
     "metadata": {
      "needs_background": "light"
     },
     "output_type": "display_data"
    }
   ],
   "source": [
    "x = np.array([3, 8, 1, 10])\n",
    "plt.plot(x, color = 'r')     \n",
    "# or using hexa        : plt.plot(ypoints, c = '#4CAF50')\n",
    "# or using color name. : plt.plot(ypoints, c = 'hotpink')\n",
    "plt.show()"
   ]
  },
  {
   "cell_type": "markdown",
   "id": "c46fee95",
   "metadata": {
    "papermill": {
     "duration": 0.015702,
     "end_time": "2022-11-08T10:09:49.663742",
     "exception": false,
     "start_time": "2022-11-08T10:09:49.648040",
     "status": "completed"
    },
    "tags": []
   },
   "source": [
    "------\n",
    "#### Line Width\n",
    "- You can use the keyword argument linewidth or the shorter lw to change the width of the line"
   ]
  },
  {
   "cell_type": "code",
   "execution_count": 19,
   "id": "c5c867a0",
   "metadata": {
    "execution": {
     "iopub.execute_input": "2022-11-08T10:09:49.697580Z",
     "iopub.status.busy": "2022-11-08T10:09:49.696856Z",
     "iopub.status.idle": "2022-11-08T10:09:49.882588Z",
     "shell.execute_reply": "2022-11-08T10:09:49.880663Z"
    },
    "papermill": {
     "duration": 0.205914,
     "end_time": "2022-11-08T10:09:49.885604",
     "exception": false,
     "start_time": "2022-11-08T10:09:49.679690",
     "status": "completed"
    },
    "tags": []
   },
   "outputs": [
    {
     "data": {
      "image/png": "[encoded data removed]",
      "text/plain": [
       "<Figure size 432x288 with 1 Axes>"
      ]
     },
     "metadata": {
      "needs_background": "light"
     },
     "output_type": "display_data"
    }
   ],
   "source": [
    "x = np.array([3, 8, 1, 10])\n",
    "plt.plot(x, linewidth = '20.5')    # can be float \n",
    "plt.show()"
   ]
  },
  {
   "cell_type": "markdown",
   "id": "c324c11d",
   "metadata": {
    "papermill": {
     "duration": 0.016385,
     "end_time": "2022-11-08T10:09:49.918733",
     "exception": false,
     "start_time": "2022-11-08T10:09:49.902348",
     "status": "completed"
    },
    "tags": []
   },
   "source": [
    "----\n",
    "#### Multiple Lines\n",
    "- You can plot as many lines as you like by simply adding more plt.plot()"
   ]
  },
  {
   "cell_type": "code",
   "execution_count": 20,
   "id": "3538d4a1",
   "metadata": {
    "execution": {
     "iopub.execute_input": "2022-11-08T10:09:49.953903Z",
     "iopub.status.busy": "2022-11-08T10:09:49.953191Z",
     "iopub.status.idle": "2022-11-08T10:09:50.137713Z",
     "shell.execute_reply": "2022-11-08T10:09:50.136867Z"
    },
    "papermill": {
     "duration": 0.204772,
     "end_time": "2022-11-08T10:09:50.140119",
     "exception": false,
     "start_time": "2022-11-08T10:09:49.935347",
     "status": "completed"
    },
    "tags": []
   },
   "outputs": [
    {
     "data": {
      "image/png": "[encoded data removed]",
      "text/plain": [
       "<Figure size 432x288 with 1 Axes>"
      ]
     },
     "metadata": {
      "needs_background": "light"
     },
     "output_type": "display_data"
    }
   ],
   "source": [
    "y1 = np.array([3, 8, 1, 10])\n",
    "y2 = np.array([6, 2, 7, 11])\n",
    "\n",
    "plt.plot(y1)\n",
    "plt.plot(y2)\n",
    "\n",
    "plt.show()"
   ]
  },
  {
   "cell_type": "markdown",
   "id": "03e77456",
   "metadata": {
    "papermill": {
     "duration": 0.016479,
     "end_time": "2022-11-08T10:09:50.173430",
     "exception": false,
     "start_time": "2022-11-08T10:09:50.156951",
     "status": "completed"
    },
    "tags": []
   },
   "source": [
    "#### Draw two lines by specifiyng the x- and y-point values for both lines"
   ]
  },
  {
   "cell_type": "code",
   "execution_count": 21,
   "id": "f8752452",
   "metadata": {
    "execution": {
     "iopub.execute_input": "2022-11-08T10:09:50.209517Z",
     "iopub.status.busy": "2022-11-08T10:09:50.208751Z",
     "iopub.status.idle": "2022-11-08T10:09:50.395269Z",
     "shell.execute_reply": "2022-11-08T10:09:50.394165Z"
    },
    "papermill": {
     "duration": 0.207625,
     "end_time": "2022-11-08T10:09:50.397897",
     "exception": false,
     "start_time": "2022-11-08T10:09:50.190272",
     "status": "completed"
    },
    "tags": []
   },
   "outputs": [
    {
     "data": {
      "image/png": "[encoded data removed]",
      "text/plain": [
       "<Figure size 432x288 with 1 Axes>"
      ]
     },
     "metadata": {
      "needs_background": "light"
     },
     "output_type": "display_data"
    }
   ],
   "source": [
    "x1 = np.array([0, 1, 2, 3])\n",
    "y1 = np.array([3, 8, 1, 10])\n",
    "x2 = np.array([0, 1, 2, 3])\n",
    "y2 = np.array([6, 2, 7, 11])\n",
    "\n",
    "plt.plot(x1, y1, x2, y2)\n",
    "plt.show()"
   ]
  },
  {
   "cell_type": "markdown",
   "id": "c334d710",
   "metadata": {
    "papermill": {
     "duration": 0.016926,
     "end_time": "2022-11-08T10:09:50.432158",
     "exception": false,
     "start_time": "2022-11-08T10:09:50.415232",
     "status": "completed"
    },
    "tags": []
   },
   "source": [
    "------\n",
    "#### Create Labels for a Plot\n",
    "- you can use the xlabel() and ylabel() functions to set a label for the x- and y-axis"
   ]
  },
  {
   "cell_type": "code",
   "execution_count": 22,
   "id": "038ce895",
   "metadata": {
    "execution": {
     "iopub.execute_input": "2022-11-08T10:09:50.468552Z",
     "iopub.status.busy": "2022-11-08T10:09:50.468137Z",
     "iopub.status.idle": "2022-11-08T10:09:50.672078Z",
     "shell.execute_reply": "2022-11-08T10:09:50.670873Z"
    },
    "papermill": {
     "duration": 0.225389,
     "end_time": "2022-11-08T10:09:50.674731",
     "exception": false,
     "start_time": "2022-11-08T10:09:50.449342",
     "status": "completed"
    },
    "tags": []
   },
   "outputs": [
    {
     "data": {
      "text/plain": [
       "Text(0, 0.5, 'y title')"
      ]
     },
     "execution_count": 22,
     "metadata": {},
     "output_type": "execute_result"
    },
    {
     "data": {
      "image/png": "[encoded data removed]",
      "text/plain": [
       "<Figure size 432x288 with 1 Axes>"
      ]
     },
     "metadata": {
      "needs_background": "light"
     },
     "output_type": "display_data"
    }
   ],
   "source": [
    "x = np.array([80, 85, 90, 95, 100, 105, 110, 115, 120, 125])\n",
    "y = np.array([240, 250, 260, 270, 280, 290, 300, 310, 320, 330])\n",
    "\n",
    "plt.plot(x, y)\n",
    "\n",
    "plt.xlabel(\"x title\")\n",
    "plt.ylabel(\"y title\")"
   ]
  },
  {
   "cell_type": "markdown",
   "id": "54c9fb03",
   "metadata": {
    "papermill": {
     "duration": 0.020421,
     "end_time": "2022-11-08T10:09:50.713299",
     "exception": false,
     "start_time": "2022-11-08T10:09:50.692878",
     "status": "completed"
    },
    "tags": []
   },
   "source": [
    "#### Create a Title for a Plot\n",
    "- With Pyplot, you can use the title() function to set a title for the plot"
   ]
  },
  {
   "cell_type": "code",
   "execution_count": 23,
   "id": "5c53ec6a",
   "metadata": {
    "execution": {
     "iopub.execute_input": "2022-11-08T10:09:50.752207Z",
     "iopub.status.busy": "2022-11-08T10:09:50.751474Z",
     "iopub.status.idle": "2022-11-08T10:09:50.940509Z",
     "shell.execute_reply": "2022-11-08T10:09:50.939348Z"
    },
    "papermill": {
     "duration": 0.210777,
     "end_time": "2022-11-08T10:09:50.943038",
     "exception": false,
     "start_time": "2022-11-08T10:09:50.732261",
     "status": "completed"
    },
    "tags": []
   },
   "outputs": [
    {
     "data": {
      "image/png": "[encoded data removed]",
      "text/plain": [
       "<Figure size 432x288 with 1 Axes>"
      ]
     },
     "metadata": {
      "needs_background": "light"
     },
     "output_type": "display_data"
    }
   ],
   "source": [
    "x = np.array([80, 85, 90, 95, 100, 105, 110, 115, 120, 125])\n",
    "y = np.array([240, 250, 260, 270, 280, 290, 300, 310, 320, 330])\n",
    "\n",
    "plt.plot(x, y)\n",
    "\n",
    "plt.title(\"main title\")\n",
    "plt.xlabel(\"x title\")\n",
    "plt.ylabel(\"y title\")\n",
    "\n",
    "plt.show()"
   ]
  },
  {
   "cell_type": "markdown",
   "id": "371f8cde",
   "metadata": {
    "papermill": {
     "duration": 0.017377,
     "end_time": "2022-11-08T10:09:50.978397",
     "exception": false,
     "start_time": "2022-11-08T10:09:50.961020",
     "status": "completed"
    },
    "tags": []
   },
   "source": [
    "----\n",
    "#### Set Font Properties for Title and Labels\n",
    "- You can use the fontdict parameter in xlabel(), ylabel(), and title() to set font properties for the title and labels"
   ]
  },
  {
   "cell_type": "code",
   "execution_count": 24,
   "id": "3db7a60c",
   "metadata": {
    "execution": {
     "iopub.execute_input": "2022-11-08T10:09:51.015899Z",
     "iopub.status.busy": "2022-11-08T10:09:51.015479Z",
     "iopub.status.idle": "2022-11-08T10:09:51.230292Z",
     "shell.execute_reply": "2022-11-08T10:09:51.229193Z"
    },
    "papermill": {
     "duration": 0.236725,
     "end_time": "2022-11-08T10:09:51.232981",
     "exception": false,
     "start_time": "2022-11-08T10:09:50.996256",
     "status": "completed"
    },
    "tags": []
   },
   "outputs": [
    {
     "data": {
      "text/plain": [
       "Text(0, 0.5, 'y title')"
      ]
     },
     "execution_count": 24,
     "metadata": {},
     "output_type": "execute_result"
    },
    {
     "data": {
      "image/png": "[encoded data removed]",
      "text/plain": [
       "<Figure size 432x288 with 1 Axes>"
      ]
     },
     "metadata": {
      "needs_background": "light"
     },
     "output_type": "display_data"
    }
   ],
   "source": [
    "font1 = {'family':'serif','color':'blue','size':20}\n",
    "font2 = {'family':'serif','color':'darkred','size':15}\n",
    "\n",
    "plt.title(\"main title\", fontdict = font1)\n",
    "plt.xlabel(\"x title\", fontdict = font2)\n",
    "plt.ylabel(\"y title\", fontdict = font2)"
   ]
  },
  {
   "cell_type": "markdown",
   "id": "cead8636",
   "metadata": {
    "papermill": {
     "duration": 0.017539,
     "end_time": "2022-11-08T10:09:51.268804",
     "exception": false,
     "start_time": "2022-11-08T10:09:51.251265",
     "status": "completed"
    },
    "tags": []
   },
   "source": [
    "#### Position the Title\n",
    "- You can use the loc parameter in title() to position the title.\n",
    "- Legal values are: 'left', 'right', and 'center'. Default value is 'center'"
   ]
  },
  {
   "cell_type": "code",
   "execution_count": 25,
   "id": "8ffd5f43",
   "metadata": {
    "execution": {
     "iopub.execute_input": "2022-11-08T10:09:51.307874Z",
     "iopub.status.busy": "2022-11-08T10:09:51.306967Z",
     "iopub.status.idle": "2022-11-08T10:09:51.508713Z",
     "shell.execute_reply": "2022-11-08T10:09:51.507509Z"
    },
    "papermill": {
     "duration": 0.224194,
     "end_time": "2022-11-08T10:09:51.511229",
     "exception": false,
     "start_time": "2022-11-08T10:09:51.287035",
     "status": "completed"
    },
    "tags": []
   },
   "outputs": [
    {
     "data": {
      "text/plain": [
       "Text(0, 0.5, 'y title')"
      ]
     },
     "execution_count": 25,
     "metadata": {},
     "output_type": "execute_result"
    },
    {
     "data": {
      "image/png": "[encoded data removed]",
      "text/plain": [
       "<Figure size 432x288 with 1 Axes>"
      ]
     },
     "metadata": {
      "needs_background": "light"
     },
     "output_type": "display_data"
    }
   ],
   "source": [
    "plt.title(\"main title\", loc = 'left')\n",
    "plt.xlabel(\"x title\")\n",
    "plt.ylabel(\"y title\")"
   ]
  },
  {
   "cell_type": "markdown",
   "id": "71243370",
   "metadata": {
    "papermill": {
     "duration": 0.018353,
     "end_time": "2022-11-08T10:09:51.548235",
     "exception": false,
     "start_time": "2022-11-08T10:09:51.529882",
     "status": "completed"
    },
    "tags": []
   },
   "source": [
    "------\n",
    "#### Add Grid Lines to a Plot\n",
    "- you can use the grid() function to add grid lines to the plot"
   ]
  },
  {
   "cell_type": "code",
   "execution_count": 26,
   "id": "121670ec",
   "metadata": {
    "execution": {
     "iopub.execute_input": "2022-11-08T10:09:51.586868Z",
     "iopub.status.busy": "2022-11-08T10:09:51.586482Z",
     "iopub.status.idle": "2022-11-08T10:09:51.781795Z",
     "shell.execute_reply": "2022-11-08T10:09:51.780589Z"
    },
    "papermill": {
     "duration": 0.217668,
     "end_time": "2022-11-08T10:09:51.784175",
     "exception": false,
     "start_time": "2022-11-08T10:09:51.566507",
     "status": "completed"
    },
    "tags": []
   },
   "outputs": [
    {
     "data": {
      "image/png": "[encoded data removed]",
      "text/plain": [
       "<Figure size 432x288 with 1 Axes>"
      ]
     },
     "metadata": {
      "needs_background": "light"
     },
     "output_type": "display_data"
    }
   ],
   "source": [
    "# normal grid \n",
    "plt.grid()"
   ]
  },
  {
   "cell_type": "code",
   "execution_count": 27,
   "id": "7b7823a9",
   "metadata": {
    "execution": {
     "iopub.execute_input": "2022-11-08T10:09:51.823368Z",
     "iopub.status.busy": "2022-11-08T10:09:51.822969Z",
     "iopub.status.idle": "2022-11-08T10:09:51.999755Z",
     "shell.execute_reply": "2022-11-08T10:09:51.998495Z"
    },
    "papermill": {
     "duration": 0.199136,
     "end_time": "2022-11-08T10:09:52.002218",
     "exception": false,
     "start_time": "2022-11-08T10:09:51.803082",
     "status": "completed"
    },
    "tags": []
   },
   "outputs": [
    {
     "data": {
      "image/png": "[encoded data removed]",
      "text/plain": [
       "<Figure size 432x288 with 1 Axes>"
      ]
     },
     "metadata": {
      "needs_background": "light"
     },
     "output_type": "display_data"
    }
   ],
   "source": [
    "#### Specify Which Grid Lines to Display, options: 'x', 'y', and 'both'. Default value is 'both'\n",
    "plt.grid(axis = 'x')\n",
    "plt.show()"
   ]
  },
  {
   "cell_type": "markdown",
   "id": "3e5fae44",
   "metadata": {
    "papermill": {
     "duration": 0.018584,
     "end_time": "2022-11-08T10:09:52.039991",
     "exception": false,
     "start_time": "2022-11-08T10:09:52.021407",
     "status": "completed"
    },
    "tags": []
   },
   "source": [
    "---------\n",
    "#### Set Line Properties for the Grid\n",
    "- You can also set the line properties of the grid, like this: grid(color = 'color', linestyle = 'linestyle', linewidth = number)"
   ]
  },
  {
   "cell_type": "code",
   "execution_count": 28,
   "id": "37f8126d",
   "metadata": {
    "execution": {
     "iopub.execute_input": "2022-11-08T10:09:52.079658Z",
     "iopub.status.busy": "2022-11-08T10:09:52.079265Z",
     "iopub.status.idle": "2022-11-08T10:09:52.286025Z",
     "shell.execute_reply": "2022-11-08T10:09:52.284945Z"
    },
    "papermill": {
     "duration": 0.229278,
     "end_time": "2022-11-08T10:09:52.288505",
     "exception": false,
     "start_time": "2022-11-08T10:09:52.059227",
     "status": "completed"
    },
    "tags": []
   },
   "outputs": [
    {
     "data": {
      "image/png": "[encoded data removed]",
      "text/plain": [
       "<Figure size 432x288 with 1 Axes>"
      ]
     },
     "metadata": {
      "needs_background": "light"
     },
     "output_type": "display_data"
    }
   ],
   "source": [
    "plt.grid(color = 'green', linestyle = '--', linewidth = 0.5)"
   ]
  },
  {
   "cell_type": "markdown",
   "id": "3a0b0216",
   "metadata": {
    "papermill": {
     "duration": 0.019004,
     "end_time": "2022-11-08T10:09:52.326745",
     "exception": false,
     "start_time": "2022-11-08T10:09:52.307741",
     "status": "completed"
    },
    "tags": []
   },
   "source": [
    "- more about matplotlib will be added soon, stay tunned ^_^"
   ]
  }
 ],
 "metadata": {
  "kernelspec": {
   "display_name": "Python 3",
   "language": "python",
   "name": "python3"
  },
  "language_info": {
   "codemirror_mode": {
    "name": "ipython",
    "version": 3
   },
   "file_extension": ".py",
   "mimetype": "text/x-python",
   "name": "python",
   "nbconvert_exporter": "python",
   "pygments_lexer": "ipython3",
   "version": "3.7.12"
  },
  "papermill": {
   "default_parameters": {},
   "duration": 16.033633,
   "end_time": "2022-11-08T10:09:53.068408",
   "environment_variables": {},
   "exception": null,
   "input_path": "__notebook__.ipynb",
   "output_path": "__notebook__.ipynb",
   "parameters": {},
   "start_time": "2022-11-08T10:09:37.034775",
   "version": "2.3.4"
  }
 },
 "nbformat": 4,
 "nbformat_minor": 5
}
